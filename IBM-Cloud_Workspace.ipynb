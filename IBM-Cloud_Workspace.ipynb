{
 "cells": [
  {
   "cell_type": "code",
   "execution_count": 1,
   "metadata": {},
   "outputs": [
    {
     "name": "stdout",
     "output_type": "stream",
     "text": [
      "Waiting for a Spark session to start...\n",
      "Spark Initialization Done! ApplicationId = app-20190210210456-0000\n",
      "KERNEL_ID = 4f36c513-dd5a-4290-a5ad-7484150235ca\n"
     ]
    },
    {
     "data": {
      "text/plain": [
       "[Row(artist='Martin Orford', auth='Logged In', firstName='Joseph', gender='M', itemInSession=20, lastName='Morales', length=597.55057, level='free', location='Corpus Christi, TX', method='PUT', page='NextSong', registration=1532063507000, sessionId=292, song='Grand Designs', status=200, ts=1538352011000, userAgent='\"Mozilla/5.0 (Macintosh; Intel Mac OS X 10_9_4) AppleWebKit/537.36 (KHTML, like Gecko) Chrome/36.0.1985.125 Safari/537.36\"', userId='293'),\n",
       " Row(artist=\"John Brown's Body\", auth='Logged In', firstName='Sawyer', gender='M', itemInSession=74, lastName='Larson', length=380.21179, level='free', location='Houston-The Woodlands-Sugar Land, TX', method='PUT', page='NextSong', registration=1538069638000, sessionId=97, song='Bulls', status=200, ts=1538352025000, userAgent='\"Mozilla/5.0 (Macintosh; Intel Mac OS X 10_9_4) AppleWebKit/537.36 (KHTML, like Gecko) Chrome/36.0.1985.143 Safari/537.36\"', userId='98'),\n",
       " Row(artist='Afroman', auth='Logged In', firstName='Maverick', gender='M', itemInSession=184, lastName='Santiago', length=202.37016, level='paid', location='Orlando-Kissimmee-Sanford, FL', method='PUT', page='NextSong', registration=1535953455000, sessionId=178, song='Because I Got High', status=200, ts=1538352118000, userAgent='\"Mozilla/5.0 (Macintosh; Intel Mac OS X 10_9_4) AppleWebKit/537.36 (KHTML, like Gecko) Chrome/36.0.1985.143 Safari/537.36\"', userId='179'),\n",
       " Row(artist=None, auth='Logged In', firstName='Maverick', gender='M', itemInSession=185, lastName='Santiago', length=None, level='paid', location='Orlando-Kissimmee-Sanford, FL', method='PUT', page='Logout', registration=1535953455000, sessionId=178, song=None, status=307, ts=1538352119000, userAgent='\"Mozilla/5.0 (Macintosh; Intel Mac OS X 10_9_4) AppleWebKit/537.36 (KHTML, like Gecko) Chrome/36.0.1985.143 Safari/537.36\"', userId='179'),\n",
       " Row(artist='Lily Allen', auth='Logged In', firstName='Gianna', gender='F', itemInSession=22, lastName='Campos', length=194.53342, level='paid', location='Mobile, AL', method='PUT', page='NextSong', registration=1535931018000, sessionId=245, song='Smile (Radio Edit)', status=200, ts=1538352124000, userAgent='Mozilla/5.0 (Windows NT 6.1; WOW64; rv:31.0) Gecko/20100101 Firefox/31.0', userId='246')]"
      ]
     },
     "execution_count": 1,
     "metadata": {},
     "output_type": "execute_result"
    }
   ],
   "source": [
    "\n",
    "import ibmos2spark\n",
    "import numpy as np\n",
    "import matplotlib.pyplot as plt\n",
    "import seaborn as sns\n",
    "%matplotlib inline\n",
    "\n",
    "# @hidden_cell\n",
    "credentials = {\n",
    "    'endpoint': 'https://s3-api.us-geo.objectstorage.service.networklayer.com',\n",
    "    'api_key': 'tOiRY_xneCESdkmi2EmAuEYBgEsnobsCXJjhIef6Bq_z',\n",
    "    'service_id': 'iam-ServiceId-1e9b825a-0bee-4ca4-8205-6a83ac79cb3f',\n",
    "    'iam_service_endpoint': 'https://iam.bluemix.net/oidc/token'}\n",
    "\n",
    "configuration_name = 'os_99a92fdcb3a9417b90ecfe215ec66b22_configs'\n",
    "cos = ibmos2spark.CloudObjectStorage(sc, credentials, configuration_name, 'bluemix_cos')\n",
    "\n",
    "from pyspark.sql import SparkSession\n",
    "spark = SparkSession.builder.getOrCreate()\n",
    "# Since JSON data can be semi-structured and contain additional metadata, it is possible that you might face issues with the DataFrame layout.\n",
    "# Please read the documentation of 'SparkSession.read()' to learn more about the possibilities to adjust the data loading.\n",
    "# PySpark documentation: http://spark.apache.org/docs/2.0.2/api/python/pyspark.sql.html#pyspark.sql.DataFrameReader.json\n",
    "\n",
    "df = spark.read.json(cos.url('medium-sparkify-event-data.json', 'udacitysparkify-donotdelete-pr-bycpld3uem26ls'))\n",
    "df.take(5)\n"
   ]
  },
  {
   "cell_type": "code",
   "execution_count": 2,
   "metadata": {},
   "outputs": [],
   "source": [
    "# import libraries\n",
    "from pyspark.sql import SparkSession\n",
    "from pyspark.sql.functions import isnan, count, when, col, desc, udf, col, sort_array, asc, avg\n",
    "from pyspark.sql import Row\n",
    "from pyspark.sql.functions import sum as Fsum\n",
    "from pyspark.ml.evaluation import MulticlassClassificationEvaluator\n",
    "from pyspark.sql.window import Window\n",
    "from pyspark.sql.types import IntegerType\n",
    "from pyspark.ml.feature import CountVectorizer, IDF, Normalizer, PCA, RegexTokenizer, StandardScaler, StopWordsRemover, StringIndexer, VectorAssembler\n",
    "from pyspark.sql import Window\n",
    "from pyspark.ml.feature import OneHotEncoder, StringIndexer\n",
    "from pyspark.ml.regression import LinearRegression\n",
    "from pyspark.ml.tuning import CrossValidator, ParamGridBuilder\n",
    "from pyspark.ml import Pipeline\n",
    "from pyspark.ml.classification import LogisticRegression\n",
    "from pyspark.mllib.stat import Statistics "
   ]
  },
  {
   "cell_type": "code",
   "execution_count": 3,
   "metadata": {},
   "outputs": [],
   "source": [
    "# create a Spark session\n",
    "spark = SparkSession \\\n",
    "    .builder \\\n",
    "    .appName(\"Sparkify\") \\\n",
    "    .getOrCreate()"
   ]
  },
  {
   "cell_type": "code",
   "execution_count": 4,
   "metadata": {},
   "outputs": [
    {
     "name": "stdout",
     "output_type": "stream",
     "text": [
      "root\n",
      " |-- artist: string (nullable = true)\n",
      " |-- auth: string (nullable = true)\n",
      " |-- firstName: string (nullable = true)\n",
      " |-- gender: string (nullable = true)\n",
      " |-- itemInSession: long (nullable = true)\n",
      " |-- lastName: string (nullable = true)\n",
      " |-- length: double (nullable = true)\n",
      " |-- level: string (nullable = true)\n",
      " |-- location: string (nullable = true)\n",
      " |-- method: string (nullable = true)\n",
      " |-- page: string (nullable = true)\n",
      " |-- registration: long (nullable = true)\n",
      " |-- sessionId: long (nullable = true)\n",
      " |-- song: string (nullable = true)\n",
      " |-- status: long (nullable = true)\n",
      " |-- ts: long (nullable = true)\n",
      " |-- userAgent: string (nullable = true)\n",
      " |-- userId: string (nullable = true)\n",
      "\n"
     ]
    }
   ],
   "source": [
    "df.printSchema()"
   ]
  },
  {
   "cell_type": "code",
   "execution_count": 5,
   "metadata": {},
   "outputs": [
    {
     "name": "stdout",
     "output_type": "stream",
     "text": [
      "543705\n"
     ]
    }
   ],
   "source": [
    "print(df.count())"
   ]
  },
  {
   "cell_type": "code",
   "execution_count": 6,
   "metadata": {},
   "outputs": [],
   "source": [
    "user_log_valid = df.dropna(how = \"any\", subset = [\"userId\", \"sessionId\"])"
   ]
  },
  {
   "cell_type": "code",
   "execution_count": 7,
   "metadata": {},
   "outputs": [
    {
     "data": {
      "text/plain": [
       "543705"
      ]
     },
     "execution_count": 7,
     "metadata": {},
     "output_type": "execute_result"
    }
   ],
   "source": [
    "user_log_valid.count()"
   ]
  },
  {
   "cell_type": "code",
   "execution_count": 8,
   "metadata": {},
   "outputs": [
    {
     "name": "stdout",
     "output_type": "stream",
     "text": [
      "+------+\n",
      "|userId|\n",
      "+------+\n",
      "|      |\n",
      "|    10|\n",
      "|   100|\n",
      "|100001|\n",
      "|100002|\n",
      "|100003|\n",
      "|100004|\n",
      "|100005|\n",
      "|100006|\n",
      "|100007|\n",
      "|100008|\n",
      "|100009|\n",
      "|100010|\n",
      "|100011|\n",
      "|100012|\n",
      "|100013|\n",
      "|100014|\n",
      "|100015|\n",
      "|100016|\n",
      "|100017|\n",
      "+------+\n",
      "only showing top 20 rows\n",
      "\n"
     ]
    }
   ],
   "source": [
    "df.select(\"userId\").dropDuplicates().sort(\"userId\").show()"
   ]
  },
  {
   "cell_type": "code",
   "execution_count": 9,
   "metadata": {},
   "outputs": [],
   "source": [
    "user_log_valid = user_log_valid.filter(user_log_valid[\"userId\"] != \"\")"
   ]
  },
  {
   "cell_type": "code",
   "execution_count": 10,
   "metadata": {},
   "outputs": [
    {
     "data": {
      "text/plain": [
       "528005"
      ]
     },
     "execution_count": 10,
     "metadata": {},
     "output_type": "execute_result"
    }
   ],
   "source": [
    "user_log_valid.count()"
   ]
  },
  {
   "cell_type": "code",
   "execution_count": 11,
   "metadata": {},
   "outputs": [
    {
     "data": {
      "text/plain": [
       "[Row(artist='Martin Orford', auth='Logged In', firstName='Joseph', gender='M', itemInSession=20, lastName='Morales', length=597.55057, level='free', location='Corpus Christi, TX', method='PUT', page='NextSong', registration=1532063507000, sessionId=292, song='Grand Designs', status=200, ts=1538352011000, userAgent='\"Mozilla/5.0 (Macintosh; Intel Mac OS X 10_9_4) AppleWebKit/537.36 (KHTML, like Gecko) Chrome/36.0.1985.125 Safari/537.36\"', userId='293'),\n",
       " Row(artist=\"John Brown's Body\", auth='Logged In', firstName='Sawyer', gender='M', itemInSession=74, lastName='Larson', length=380.21179, level='free', location='Houston-The Woodlands-Sugar Land, TX', method='PUT', page='NextSong', registration=1538069638000, sessionId=97, song='Bulls', status=200, ts=1538352025000, userAgent='\"Mozilla/5.0 (Macintosh; Intel Mac OS X 10_9_4) AppleWebKit/537.36 (KHTML, like Gecko) Chrome/36.0.1985.143 Safari/537.36\"', userId='98'),\n",
       " Row(artist='Afroman', auth='Logged In', firstName='Maverick', gender='M', itemInSession=184, lastName='Santiago', length=202.37016, level='paid', location='Orlando-Kissimmee-Sanford, FL', method='PUT', page='NextSong', registration=1535953455000, sessionId=178, song='Because I Got High', status=200, ts=1538352118000, userAgent='\"Mozilla/5.0 (Macintosh; Intel Mac OS X 10_9_4) AppleWebKit/537.36 (KHTML, like Gecko) Chrome/36.0.1985.143 Safari/537.36\"', userId='179'),\n",
       " Row(artist=None, auth='Logged In', firstName='Maverick', gender='M', itemInSession=185, lastName='Santiago', length=None, level='paid', location='Orlando-Kissimmee-Sanford, FL', method='PUT', page='Logout', registration=1535953455000, sessionId=178, song=None, status=307, ts=1538352119000, userAgent='\"Mozilla/5.0 (Macintosh; Intel Mac OS X 10_9_4) AppleWebKit/537.36 (KHTML, like Gecko) Chrome/36.0.1985.143 Safari/537.36\"', userId='179'),\n",
       " Row(artist='Lily Allen', auth='Logged In', firstName='Gianna', gender='F', itemInSession=22, lastName='Campos', length=194.53342, level='paid', location='Mobile, AL', method='PUT', page='NextSong', registration=1535931018000, sessionId=245, song='Smile (Radio Edit)', status=200, ts=1538352124000, userAgent='Mozilla/5.0 (Windows NT 6.1; WOW64; rv:31.0) Gecko/20100101 Firefox/31.0', userId='246')]"
      ]
     },
     "execution_count": 11,
     "metadata": {},
     "output_type": "execute_result"
    }
   ],
   "source": [
    "#Checking initial 5 rows\n",
    "user_log_valid.take(5)"
   ]
  },
  {
   "cell_type": "code",
   "execution_count": 12,
   "metadata": {},
   "outputs": [
    {
     "name": "stdout",
     "output_type": "stream",
     "text": [
      "+--------------------+\n",
      "|                page|\n",
      "+--------------------+\n",
      "|               About|\n",
      "|          Add Friend|\n",
      "|     Add to Playlist|\n",
      "|              Cancel|\n",
      "|Cancellation Conf...|\n",
      "|           Downgrade|\n",
      "|               Error|\n",
      "|                Help|\n",
      "|                Home|\n",
      "|              Logout|\n",
      "|            NextSong|\n",
      "|         Roll Advert|\n",
      "|       Save Settings|\n",
      "|            Settings|\n",
      "|    Submit Downgrade|\n",
      "|      Submit Upgrade|\n",
      "|         Thumbs Down|\n",
      "|           Thumbs Up|\n",
      "|             Upgrade|\n",
      "+--------------------+\n",
      "\n"
     ]
    }
   ],
   "source": [
    "user_log_valid.select(\"page\").dropDuplicates().sort(\"page\").show()"
   ]
  },
  {
   "cell_type": "code",
   "execution_count": 13,
   "metadata": {},
   "outputs": [
    {
     "name": "stdout",
     "output_type": "stream",
     "text": [
      "+------+---------+---------+------+-------------+--------+------+-----+--------------------+------+--------------------+-------------+---------+----+------+-------------+--------------------+------+\n",
      "|artist|     auth|firstName|gender|itemInSession|lastName|length|level|            location|method|                page| registration|sessionId|song|status|           ts|           userAgent|userId|\n",
      "+------+---------+---------+------+-------------+--------+------+-----+--------------------+------+--------------------+-------------+---------+----+------+-------------+--------------------+------+\n",
      "|  null|Cancelled|   Olivia|     F|           40|    Carr|  null| free|      Fort Wayne, IN|   GET|Cancellation Conf...|1536758439000|      490|null|   200|1538400616000|Mozilla/5.0 (Wind...|   208|\n",
      "|  null|Cancelled|  Lillian|     F|          234| Cameron|  null| paid|        Columbus, OH|   GET|Cancellation Conf...|1533472700000|      471|null|   200|1538482793000|Mozilla/5.0 (Wind...|   231|\n",
      "|  null|Cancelled|     Alex|     M|          109|   Myers|  null| paid|Grand Rapids-Wyom...|   GET|Cancellation Conf...|1529995579000|      682|null|   200|1538539871000|\"Mozilla/5.0 (Win...|   236|\n",
      "|  null|Cancelled|   Rafael|     M|           66|Crawford|  null| free|   Bowling Green, KY|   GET|Cancellation Conf...|1533887620000|      628|null|   200|1538592529000|\"Mozilla/5.0 (Mac...|   156|\n",
      "|  null|Cancelled|     Brad|     M|          227| Stewart|  null| paid|         Roanoke, VA|   GET|Cancellation Conf...|1535619094000|      395|null|   200|1538770077000|\"Mozilla/5.0 (Win...|   271|\n",
      "|  null|Cancelled|    Isaac|     M|          193|  Miller|  null| paid|Seattle-Tacoma-Be...|   GET|Cancellation Conf...|1538201832000|      862|null|   200|1538800531000|Mozilla/5.0 (Wind...|   200|\n",
      "|  null|Cancelled|     Ivan|     M|            9| Sanchez|  null| free|Bridgeport-Stamfo...|   GET|Cancellation Conf...|1533575236000|     1027|null|   200|1538890895000|Mozilla/5.0 (Wind...|   130|\n",
      "|  null|Cancelled|    Chloe|     M|           56|   Myers|  null| free|Tampa-St. Petersb...|   GET|Cancellation Conf...|1534370883000|      480|null|   200|1538959081000|\"Mozilla/5.0 (iPh...|   123|\n",
      "|  null|Cancelled|    Alexi|     F|            7|  Warren|  null| paid|Spokane-Spokane V...|   GET|Cancellation Conf...|1532482662000|     1010|null|   200|1538987586000|Mozilla/5.0 (Wind...|    54|\n",
      "|  null|Cancelled|   Payton|     F|           82|Campbell|  null| paid|Los Angeles-Long ...|   GET|Cancellation Conf...|1529027541000|     1066|null|   200|1539011456000|\"Mozilla/5.0 (Win...|    39|\n",
      "|  null|Cancelled|   Oliver|     M|           17|     Fry|  null| free|San Francisco-Oak...|   GET|Cancellation Conf...|1538048434000|     1035|null|   200|1539016481000|\"Mozilla/5.0 (Mac...|   154|\n",
      "|  null|Cancelled|    Sadie|     F|            3|   Jones|  null| paid|Denver-Aurora-Lak...|   GET|Cancellation Conf...|1537054553000|      659|null|   200|1539041513000|\"Mozilla/5.0 (Mac...|   132|\n",
      "|  null|Cancelled|   Brycen|     M|          435| Bradley|  null| paid|          Laurel, MS|   GET|Cancellation Conf...|1538159495000|        9|null|   200|1539055364000|\"Mozilla/5.0 (Mac...|    10|\n",
      "|  null|Cancelled| Angelynn|     F|           20|  Coffey|  null| paid|Allentown-Bethleh...|   GET|Cancellation Conf...|1536885688000|     1228|null|   200|1539187234000|\"Mozilla/5.0 (Mac...|   296|\n",
      "|  null|Cancelled|   Teagan|     F|           39| Garrett|  null| free|Chicago-Napervill...|   GET|Cancellation Conf...|1537385168000|      817|null|   200|1539213091000|\"Mozilla/5.0 (Mac...|   187|\n",
      "|  null|Cancelled|    Ethan|     M|          180| Johnson|  null| paid|Lexington-Fayette...|   GET|Cancellation Conf...|1538080987000|     1443|null|   200|1539709266000|\"Mozilla/5.0 (Win...|    51|\n",
      "|  null|Cancelled|    Anika|     F|           83| Osborne|  null| paid|Philadelphia-Camd...|   GET|Cancellation Conf...|1533192032000|     1796|null|   200|1539768879000|\"Mozilla/5.0 (iPh...|    13|\n",
      "|  null|Cancelled|    Diego|     M|           36|   Mckee|  null| paid|Phoenix-Mesa-Scot...|   GET|Cancellation Conf...|1537167593000|     1881|null|   200|1539831896000|\"Mozilla/5.0 (iPh...|    32|\n",
      "|  null|Cancelled|   Teagan|     F|           48| Roberts|  null| paid|New Philadelphia-...|   GET|Cancellation Conf...|1537634865000|     1927|null|   200|1539968001000|Mozilla/5.0 (Wind...|    28|\n",
      "|  null|Cancelled|  Viviana|     F|           38|  Finley|  null| paid|          Gallup, NM|   GET|Cancellation Conf...|1523777521000|     2206|null|   200|1540482186000|\"Mozilla/5.0 (Win...|   198|\n",
      "+------+---------+---------+------+-------------+--------+------+-----+--------------------+------+--------------------+-------------+---------+----+------+-------------+--------------------+------+\n",
      "only showing top 20 rows\n",
      "\n"
     ]
    }
   ],
   "source": [
    "user_log_valid.filter(\"page = 'Cancellation Confirmation'\").show()"
   ]
  },
  {
   "cell_type": "code",
   "execution_count": 14,
   "metadata": {},
   "outputs": [
    {
     "name": "stdout",
     "output_type": "stream",
     "text": [
      "+--------------------+---------+---------+------+-------------+---------+---------+-----+--------------------+------+---------------+-------------+---------+--------------------+------+-------------+--------------------+------+\n",
      "|              artist|     auth|firstName|gender|itemInSession| lastName|   length|level|            location|method|           page| registration|sessionId|                song|status|           ts|           userAgent|userId|\n",
      "+--------------------+---------+---------+------+-------------+---------+---------+-----+--------------------+------+---------------+-------------+---------+--------------------+------+-------------+--------------------+------+\n",
      "|       Martin Orford|Logged In|   Joseph|     M|           20|  Morales|597.55057| free|  Corpus Christi, TX|   PUT|       NextSong|1532063507000|      292|       Grand Designs|   200|1538352011000|\"Mozilla/5.0 (Mac...|   293|\n",
      "|   John Brown's Body|Logged In|   Sawyer|     M|           74|   Larson|380.21179| free|Houston-The Woodl...|   PUT|       NextSong|1538069638000|       97|               Bulls|   200|1538352025000|\"Mozilla/5.0 (Mac...|    98|\n",
      "|             Afroman|Logged In| Maverick|     M|          184| Santiago|202.37016| paid|Orlando-Kissimmee...|   PUT|       NextSong|1535953455000|      178|  Because I Got High|   200|1538352118000|\"Mozilla/5.0 (Mac...|   179|\n",
      "|                null|Logged In| Maverick|     M|          185| Santiago|     null| paid|Orlando-Kissimmee...|   PUT|         Logout|1535953455000|      178|                null|   307|1538352119000|\"Mozilla/5.0 (Mac...|   179|\n",
      "|          Lily Allen|Logged In|   Gianna|     F|           22|   Campos|194.53342| paid|          Mobile, AL|   PUT|       NextSong|1535931018000|      245|  Smile (Radio Edit)|   200|1538352124000|Mozilla/5.0 (Wind...|   246|\n",
      "|          Carter USM|Logged In|    Sofia|     F|          266|   Gordon|138.29179| paid|       Rochester, MN|   PUT|       NextSong|1533175710000|      162|       Airplane Food|   200|1538352125000|\"Mozilla/5.0 (Mac...|   163|\n",
      "|                null|Logged In| Maverick|     M|          190| Santiago|     null| paid|Orlando-Kissimmee...|   GET|           Home|1535953455000|      178|                null|   200|1538352176000|\"Mozilla/5.0 (Mac...|   179|\n",
      "|           Aerosmith|Logged In|    Lacey|     F|          107|Castaneda|220.39465| free|        El Campo, TX|   PUT|       NextSong|1537536032000|      442|       Walk This Way|   200|1538352215000|\"Mozilla/5.0 (Mac...|   175|\n",
      "|                null|Logged In|    Colin|     M|            0|   Larson|     null| free|Dallas-Fort Worth...|   GET|           Home|1537982255000|      497|                null|   200|1538352241000|Mozilla/5.0 (Wind...|   100|\n",
      "|       Amy Winehouse|Logged In|    Colin|     M|            1|   Larson|201.50812| free|Dallas-Fort Worth...|   PUT|       NextSong|1537982255000|      497|    Teach Me Tonight|   200|1538352259000|Mozilla/5.0 (Wind...|   100|\n",
      "|Drake / Kanye Wes...|Logged In|    Sofia|     F|          267|   Gordon|357.66812| paid|       Rochester, MN|   PUT|       NextSong|1533175710000|      162|             Forever|   200|1538352263000|\"Mozilla/5.0 (Mac...|   163|\n",
      "|           Bob Dylan|Logged In|   Gianna|     F|           23|   Campos|256.96608| paid|          Mobile, AL|   PUT|       NextSong|1535931018000|      245|Simple Twist Of Fate|   200|1538352318000|Mozilla/5.0 (Wind...|   246|\n",
      "|        The Bar-Kays|Logged In| Maverick|     M|          191| Santiago|164.23138| paid|Orlando-Kissimmee...|   PUT|       NextSong|1535953455000|      178|         Montego Bay|   200|1538352320000|\"Mozilla/5.0 (Mac...|   179|\n",
      "|          Black Kids|Logged In|   Payton|     F|           83| Campbell|251.48036| free|Los Angeles-Long ...|   PUT|       NextSong|1529027541000|       38|Look At Me (When ...|   200|1538352323000|\"Mozilla/5.0 (Win...|    39|\n",
      "|                null|Logged In|    Sofia|     F|          268|   Gordon|     null| paid|       Rochester, MN|   GET|      Downgrade|1533175710000|      162|                null|   200|1538352336000|\"Mozilla/5.0 (Mac...|   163|\n",
      "|                null|Logged In| Maverick|     M|          192| Santiago|     null| paid|Orlando-Kissimmee...|   PUT|Add to Playlist|1535953455000|      178|                null|   200|1538352376000|\"Mozilla/5.0 (Mac...|   179|\n",
      "|         Chris Isaak|Logged In|   Sawyer|     M|           75|   Larson|157.67465| free|Houston-The Woodl...|   PUT|       NextSong|1538069638000|       97|Solitary Man (LP ...|   200|1538352405000|\"Mozilla/5.0 (Mac...|    98|\n",
      "|          Crazy Frog|Logged In|    Lacey|     F|          108|Castaneda|169.50812| free|        El Campo, TX|   PUT|       NextSong|1537536032000|      442| Popcorn (Radio Mix)|   200|1538352435000|\"Mozilla/5.0 (Mac...|   175|\n",
      "|                null|Logged In|   Sawyer|     M|           76|   Larson|     null| free|Houston-The Woodl...|   GET|    Roll Advert|1538069638000|       97|                null|   200|1538352435000|\"Mozilla/5.0 (Mac...|    98|\n",
      "|         The Strokes|Logged In|    Colin|     M|            2|   Larson|187.34975| free|Dallas-Fort Worth...|   PUT|       NextSong|1537982255000|      497|  You Only Live Once|   200|1538352460000|Mozilla/5.0 (Wind...|   100|\n",
      "+--------------------+---------+---------+------+-------------+---------+---------+-----+--------------------+------+---------------+-------------+---------+--------------------+------+-------------+--------------------+------+\n",
      "only showing top 20 rows\n",
      "\n"
     ]
    }
   ],
   "source": [
    "user_log_valid.show()"
   ]
  },
  {
   "cell_type": "code",
   "execution_count": 15,
   "metadata": {},
   "outputs": [],
   "source": [
    "flag_downgrade_event = udf(lambda x: 1 if x == \"Cancellation Confirmation\" else 0, IntegerType())"
   ]
  },
  {
   "cell_type": "code",
   "execution_count": 16,
   "metadata": {},
   "outputs": [],
   "source": [
    "user_log_valid = user_log_valid.withColumn(\"Churn\", flag_downgrade_event(\"page\"))"
   ]
  },
  {
   "cell_type": "code",
   "execution_count": 17,
   "metadata": {},
   "outputs": [
    {
     "data": {
      "text/plain": [
       "Row(artist='Martin Orford', auth='Logged In', firstName='Joseph', gender='M', itemInSession=20, lastName='Morales', length=597.55057, level='free', location='Corpus Christi, TX', method='PUT', page='NextSong', registration=1532063507000, sessionId=292, song='Grand Designs', status=200, ts=1538352011000, userAgent='\"Mozilla/5.0 (Macintosh; Intel Mac OS X 10_9_4) AppleWebKit/537.36 (KHTML, like Gecko) Chrome/36.0.1985.125 Safari/537.36\"', userId='293', Churn=0)"
      ]
     },
     "execution_count": 17,
     "metadata": {},
     "output_type": "execute_result"
    }
   ],
   "source": [
    "user_log_valid.head()"
   ]
  },
  {
   "cell_type": "code",
   "execution_count": 18,
   "metadata": {},
   "outputs": [
    {
     "data": {
      "text/plain": [
       "Row(artist='Martin Orford', auth='Logged In', firstName='Joseph', gender='M', itemInSession=20, lastName='Morales', length=597.55057, level='free', location='Corpus Christi, TX', method='PUT', page='NextSong', registration=1532063507000, sessionId=292, song='Grand Designs', status=200, ts=1538352011000, userAgent='\"Mozilla/5.0 (Macintosh; Intel Mac OS X 10_9_4) AppleWebKit/537.36 (KHTML, like Gecko) Chrome/36.0.1985.125 Safari/537.36\"', userId='293', Churn=0)"
      ]
     },
     "execution_count": 18,
     "metadata": {},
     "output_type": "execute_result"
    }
   ],
   "source": [
    "user_log_valid.head()"
   ]
  },
  {
   "cell_type": "code",
   "execution_count": 19,
   "metadata": {},
   "outputs": [
    {
     "data": {
      "text/plain": [
       "[Row(userId='208', firstname='Olivia', ts=1538400616000, page='Cancellation Confirmation', level='free', Churn=1),\n",
       " Row(userId='231', firstname='Lillian', ts=1538482793000, page='Cancellation Confirmation', level='paid', Churn=1),\n",
       " Row(userId='100001', firstname='Delaney', ts=1538491859000, page='Cancellation Confirmation', level='free', Churn=1),\n",
       " Row(userId='100013', firstname='Cali', ts=1538507591000, page='Cancellation Confirmation', level='free', Churn=1),\n",
       " Row(userId='236', firstname='Alex', ts=1538539871000, page='Cancellation Confirmation', level='paid', Churn=1),\n",
       " Row(userId='100030', firstname='Sonia', ts=1538572635000, page='Cancellation Confirmation', level='paid', Churn=1),\n",
       " Row(userId='156', firstname='Rafael', ts=1538592529000, page='Cancellation Confirmation', level='free', Churn=1),\n",
       " Row(userId='100032', firstname='Iker', ts=1538647095000, page='Cancellation Confirmation', level='free', Churn=1),\n",
       " Row(userId='100044', firstname='Sandro', ts=1538678296000, page='Cancellation Confirmation', level='free', Churn=1),\n",
       " Row(userId='100036', firstname='Fabian', ts=1538758470000, page='Cancellation Confirmation', level='free', Churn=1),\n",
       " Row(userId='271', firstname='Brad', ts=1538770077000, page='Cancellation Confirmation', level='paid', Churn=1),\n",
       " Row(userId='200016', firstname='Charlotte', ts=1538771014000, page='Cancellation Confirmation', level='paid', Churn=1),\n",
       " Row(userId='100023', firstname='Sawyer', ts=1538797185000, page='Cancellation Confirmation', level='paid', Churn=1),\n",
       " Row(userId='200', firstname='Isaac', ts=1538800531000, page='Cancellation Confirmation', level='paid', Churn=1),\n",
       " Row(userId='100005', firstname='Cason', ts=1538820679000, page='Cancellation Confirmation', level='free', Churn=1),\n",
       " Row(userId='130', firstname='Ivan', ts=1538890895000, page='Cancellation Confirmation', level='free', Churn=1),\n",
       " Row(userId='100049', firstname='Christopher', ts=1538929871000, page='Cancellation Confirmation', level='paid', Churn=1),\n",
       " Row(userId='123', firstname='Chloe', ts=1538959081000, page='Cancellation Confirmation', level='free', Churn=1),\n",
       " Row(userId='100018', firstname='Jayden', ts=1538969039000, page='Cancellation Confirmation', level='free', Churn=1),\n",
       " Row(userId='54', firstname='Alexi', ts=1538987586000, page='Cancellation Confirmation', level='paid', Churn=1),\n",
       " Row(userId='39', firstname='Payton', ts=1539011456000, page='Cancellation Confirmation', level='paid', Churn=1),\n",
       " Row(userId='154', firstname='Oliver', ts=1539016481000, page='Cancellation Confirmation', level='free', Churn=1),\n",
       " Row(userId='132', firstname='Sadie', ts=1539041513000, page='Cancellation Confirmation', level='paid', Churn=1),\n",
       " Row(userId='10', firstname='Brycen', ts=1539055364000, page='Cancellation Confirmation', level='paid', Churn=1),\n",
       " Row(userId='100047', firstname='Charlotte', ts=1539110967000, page='Cancellation Confirmation', level='free', Churn=1),\n",
       " Row(userId='296', firstname='Angelynn', ts=1539187234000, page='Cancellation Confirmation', level='paid', Churn=1),\n",
       " Row(userId='187', firstname='Teagan', ts=1539213091000, page='Cancellation Confirmation', level='free', Churn=1),\n",
       " Row(userId='100010', firstname='Darianna', ts=1539254318000, page='Cancellation Confirmation', level='free', Churn=1),\n",
       " Row(userId='100004', firstname='Emily', ts=1539511980000, page='Cancellation Confirmation', level='free', Churn=1),\n",
       " Row(userId='100038', firstname='Israel', ts=1539631152000, page='Cancellation Confirmation', level='free', Churn=1),\n",
       " Row(userId='51', firstname='Ethan', ts=1539709266000, page='Cancellation Confirmation', level='paid', Churn=1),\n",
       " Row(userId='13', firstname='Anika', ts=1539768879000, page='Cancellation Confirmation', level='paid', Churn=1),\n",
       " Row(userId='100045', firstname='Ivan', ts=1539775019000, page='Cancellation Confirmation', level='paid', Churn=1),\n",
       " Row(userId='32', firstname='Diego', ts=1539831896000, page='Cancellation Confirmation', level='paid', Churn=1),\n",
       " Row(userId='28', firstname='Teagan', ts=1539968001000, page='Cancellation Confirmation', level='paid', Churn=1),\n",
       " Row(userId='100014', firstname='Rodrigo', ts=1540103857000, page='Cancellation Confirmation', level='paid', Churn=1),\n",
       " Row(userId='100028', firstname='Kylie', ts=1540163176000, page='Cancellation Confirmation', level='paid', Churn=1),\n",
       " Row(userId='100016', firstname='Landon', ts=1540318744000, page='Cancellation Confirmation', level='paid', Churn=1),\n",
       " Row(userId='200037', firstname='Wyatt', ts=1540347849000, page='Cancellation Confirmation', level='free', Churn=1),\n",
       " Row(userId='100042', firstname='Camryn', ts=1540435643000, page='Cancellation Confirmation', level='free', Churn=1),\n",
       " Row(userId='198', firstname='Viviana', ts=1540482186000, page='Cancellation Confirmation', level='paid', Churn=1),\n",
       " Row(userId='196', firstname='Kee', ts=1540528082000, page='Cancellation Confirmation', level='paid', Churn=1),\n",
       " Row(userId='200041', firstname='Kelsey', ts=1540556875000, page='Cancellation Confirmation', level='free', Churn=1),\n",
       " Row(userId='300004', firstname='Peyton', ts=1540684960000, page='Cancellation Confirmation', level='paid', Churn=1),\n",
       " Row(userId='300047', firstname='Addison', ts=1540711926000, page='Cancellation Confirmation', level='paid', Churn=1),\n",
       " Row(userId='172', firstname='Thomas', ts=1540809016000, page='Cancellation Confirmation', level='paid', Churn=1),\n",
       " Row(userId='200002', firstname='Dominic', ts=1540877026000, page='Cancellation Confirmation', level='paid', Churn=1),\n",
       " Row(userId='100041', firstname='Sahand', ts=1540894923000, page='Cancellation Confirmation', level='paid', Churn=1),\n",
       " Row(userId='189', firstname='Carlos', ts=1540991227000, page='Cancellation Confirmation', level='paid', Churn=1),\n",
       " Row(userId='234', firstname='Jean', ts=1541087401000, page='Cancellation Confirmation', level='paid', Churn=1),\n",
       " Row(userId='16', firstname='Emma', ts=1541147487000, page='Cancellation Confirmation', level='paid', Churn=1),\n",
       " Row(userId='214', firstname='Ean', ts=1541302069000, page='Cancellation Confirmation', level='paid', Churn=1),\n",
       " Row(userId='246', firstname='Gianna', ts=1541374384000, page='Cancellation Confirmation', level='paid', Churn=1),\n",
       " Row(userId='100040', firstname='Carlos', ts=1541379538000, page='Cancellation Confirmation', level='free', Churn=1),\n",
       " Row(userId='200013', firstname='Justyn', ts=1541408793000, page='Cancellation Confirmation', level='paid', Churn=1),\n",
       " Row(userId='200021', firstname='Liliana', ts=1541468030000, page='Cancellation Confirmation', level='paid', Churn=1),\n",
       " Row(userId='88', firstname='Zyonna', ts=1541505193000, page='Cancellation Confirmation', level='paid', Churn=1),\n",
       " Row(userId='200008', firstname='Adriana', ts=1541507600000, page='Cancellation Confirmation', level='paid', Churn=1),\n",
       " Row(userId='100025', firstname='London', ts=1541508820000, page='Cancellation Confirmation', level='free', Churn=1),\n",
       " Row(userId='100012', firstname='Daniel', ts=1541514950000, page='Cancellation Confirmation', level='free', Churn=1),\n",
       " Row(userId='45', firstname='Isobella', ts=1541543944000, page='Cancellation Confirmation', level='paid', Churn=1),\n",
       " Row(userId='200027', firstname='Laura', ts=1541598238000, page='Cancellation Confirmation', level='free', Churn=1),\n",
       " Row(userId='100003', firstname='Nevaeh', ts=1541661592000, page='Cancellation Confirmation', level='paid', Churn=1),\n",
       " Row(userId='100048', firstname='Joseph', ts=1541731687000, page='Cancellation Confirmation', level='paid', Churn=1),\n",
       " Row(userId='100043', firstname='Coryn', ts=1541762166000, page='Cancellation Confirmation', level='paid', Churn=1),\n",
       " Row(userId='200050', firstname='Brayden', ts=1541811678000, page='Cancellation Confirmation', level='paid', Churn=1),\n",
       " Row(userId='61', firstname='Parker', ts=1541939290000, page='Cancellation Confirmation', level='paid', Churn=1),\n",
       " Row(userId='124', firstname='Nicole', ts=1541948983000, page='Cancellation Confirmation', level='paid', Churn=1),\n",
       " Row(userId='223', firstname='Lucas', ts=1541958736000, page='Cancellation Confirmation', level='paid', Churn=1),\n",
       " Row(userId='41', firstname='Brisa', ts=1542032682000, page='Cancellation Confirmation', level='paid', Churn=1),\n",
       " Row(userId='221', firstname='Ryan', ts=1542049014000, page='Cancellation Confirmation', level='paid', Churn=1),\n",
       " Row(userId='162', firstname='Lakyla', ts=1542055421000, page='Cancellation Confirmation', level='paid', Churn=1),\n",
       " Row(userId='131', firstname='Kael', ts=1542063249000, page='Cancellation Confirmation', level='paid', Churn=1),\n",
       " Row(userId='100017', firstname='James', ts=1542117226000, page='Cancellation Confirmation', level='free', Churn=1),\n",
       " Row(userId='100024', firstname='Jonathon', ts=1542147643000, page='Cancellation Confirmation', level='paid', Churn=1),\n",
       " Row(userId='100051', firstname='Aaliyah', ts=1542159866000, page='Cancellation Confirmation', level='free', Churn=1),\n",
       " Row(userId='200028', firstname='Christopher', ts=1542162058000, page='Cancellation Confirmation', level='paid', Churn=1),\n",
       " Row(userId='200024', firstname='Isaiah', ts=1542191563000, page='Cancellation Confirmation', level='paid', Churn=1),\n",
       " Row(userId='200045', firstname='Jace', ts=1542199883000, page='Cancellation Confirmation', level='free', Churn=1),\n",
       " Row(userId='200023', firstname='Katiana', ts=1542206187000, page='Cancellation Confirmation', level='free', Churn=1),\n",
       " Row(userId='288', firstname='Carter', ts=1542254381000, page='Cancellation Confirmation', level='paid', Churn=1),\n",
       " Row(userId='265', firstname='Cynthia', ts=1542268661000, page='Cancellation Confirmation', level='free', Churn=1),\n",
       " Row(userId='200039', firstname='Kaydence', ts=1542360575000, page='Cancellation Confirmation', level='paid', Churn=1),\n",
       " Row(userId='188', firstname='Cassandra', ts=1542404708000, page='Cancellation Confirmation', level='paid', Churn=1),\n",
       " Row(userId='120', firstname='Elizabeth', ts=1542443637000, page='Cancellation Confirmation', level='paid', Churn=1),\n",
       " Row(userId='200020', firstname='Keegan', ts=1542750479000, page='Cancellation Confirmation', level='paid', Churn=1),\n",
       " Row(userId='293', firstname='Joseph', ts=1542828929000, page='Cancellation Confirmation', level='paid', Churn=1),\n",
       " Row(userId='100011', firstname='Sebastian', ts=1542839733000, page='Cancellation Confirmation', level='paid', Churn=1),\n",
       " Row(userId='126', firstname='Daelin', ts=1542933610000, page='Cancellation Confirmation', level='paid', Churn=1),\n",
       " Row(userId='164', firstname='Benjamin', ts=1542952212000, page='Cancellation Confirmation', level='paid', Churn=1),\n",
       " Row(userId='11', firstname='Zoe', ts=1543018922000, page='Cancellation Confirmation', level='paid', Churn=1),\n",
       " Row(userId='118', firstname='Jayden', ts=1543091855000, page='Cancellation Confirmation', level='paid', Churn=1),\n",
       " Row(userId='89', firstname='Azrael', ts=1543252571000, page='Cancellation Confirmation', level='free', Churn=1),\n",
       " Row(userId='167', firstname='Jasmine', ts=1543297283000, page='Cancellation Confirmation', level='free', Churn=1),\n",
       " Row(userId='34', firstname='Wesley', ts=1543337414000, page='Cancellation Confirmation', level='paid', Churn=1),\n",
       " Row(userId='81', firstname='Oliver', ts=1543440994000, page='Cancellation Confirmation', level='paid', Churn=1),\n",
       " Row(userId='18', firstname='Adriel', ts=1543522398000, page='Cancellation Confirmation', level='paid', Churn=1),\n",
       " Row(userId='85', firstname='Brayden', ts=1543570037000, page='Cancellation Confirmation', level='paid', Churn=1),\n",
       " Row(userId='140', firstname='Lucero', ts=1543583107000, page='Cancellation Confirmation', level='free', Churn=1)]"
      ]
     },
     "execution_count": 19,
     "metadata": {},
     "output_type": "execute_result"
    }
   ],
   "source": [
    "user_log_valid.select([\"userId\", \"firstname\", \"ts\", \"page\", \"level\", \"Churn\"]).where(user_log_valid.Churn == 1).sort(\"ts\").collect()"
   ]
  },
  {
   "cell_type": "code",
   "execution_count": 20,
   "metadata": {},
   "outputs": [
    {
     "name": "stdout",
     "output_type": "stream",
     "text": [
      "root\n",
      " |-- artist: string (nullable = true)\n",
      " |-- auth: string (nullable = true)\n",
      " |-- firstName: string (nullable = true)\n",
      " |-- gender: string (nullable = true)\n",
      " |-- itemInSession: long (nullable = true)\n",
      " |-- lastName: string (nullable = true)\n",
      " |-- length: double (nullable = true)\n",
      " |-- level: string (nullable = true)\n",
      " |-- location: string (nullable = true)\n",
      " |-- method: string (nullable = true)\n",
      " |-- page: string (nullable = true)\n",
      " |-- registration: long (nullable = true)\n",
      " |-- sessionId: long (nullable = true)\n",
      " |-- song: string (nullable = true)\n",
      " |-- status: long (nullable = true)\n",
      " |-- ts: long (nullable = true)\n",
      " |-- userAgent: string (nullable = true)\n",
      " |-- userId: string (nullable = true)\n",
      " |-- Churn: integer (nullable = true)\n",
      "\n"
     ]
    }
   ],
   "source": [
    "user_log_valid.printSchema()"
   ]
  },
  {
   "cell_type": "code",
   "execution_count": 21,
   "metadata": {},
   "outputs": [],
   "source": [
    "#build pipeline\n",
    "Gender_indexer = StringIndexer(inputCol=\"gender\", outputCol='Gender_Index')\n",
    "User_indexer = StringIndexer(inputCol=\"userAgent\", outputCol='User_Index')\n",
    "Page_indexer = StringIndexer(inputCol=\"page\", outputCol='Page_Index')\n",
    "Gender_encoder = OneHotEncoder(inputCol='Gender_Index', outputCol='Gender_Vec')\n",
    "User_encoder = OneHotEncoder(inputCol='User_Index', outputCol='User_Vec')\n",
    "Page_encoder = OneHotEncoder(inputCol='Page_Index', outputCol='Page_Vec')\n",
    "assembler = VectorAssembler(inputCols=[\"Gender_Vec\", \"User_Vec\", \"Page_Vec\", \"status\"], outputCol=\"features\")\n",
    "indexer = StringIndexer(inputCol=\"Churn\", outputCol=\"label\")"
   ]
  },
  {
   "cell_type": "code",
   "execution_count": 22,
   "metadata": {},
   "outputs": [],
   "source": [
    "lr =  LogisticRegression(maxIter=10, regParam=0.0, elasticNetParam=0)\n",
    "pipeline = Pipeline(stages=[Gender_indexer, User_indexer, Page_indexer, Gender_encoder, User_encoder, Page_encoder, assembler, indexer, lr])"
   ]
  },
  {
   "cell_type": "code",
   "execution_count": 23,
   "metadata": {},
   "outputs": [],
   "source": [
    "#Train Test Split: As a first step break your data set into 90% \n",
    "#of training data and set aside 10%. Set random seed to 42.\n",
    "rest, validation = user_log_valid.randomSplit([0.9, 0.1], seed=42)"
   ]
  },
  {
   "cell_type": "code",
   "execution_count": 24,
   "metadata": {},
   "outputs": [],
   "source": [
    "paramGrid = ParamGridBuilder() \\\n",
    "    .addGrid(lr.regParam,[0.0, 0.1, ]) \\\n",
    "    .build()\n",
    "\n",
    "\n",
    "crossval = CrossValidator(estimator=pipeline,\n",
    "                          estimatorParamMaps=paramGrid,\n",
    "                          evaluator=MulticlassClassificationEvaluator(),\n",
    "                          numFolds=3)"
   ]
  },
  {
   "cell_type": "code",
   "execution_count": 25,
   "metadata": {},
   "outputs": [],
   "source": [
    "cvModel_q1 = crossval.fit(rest)"
   ]
  },
  {
   "cell_type": "code",
   "execution_count": 26,
   "metadata": {},
   "outputs": [
    {
     "data": {
      "text/plain": [
       "[0.9999511011960454, 0.9997379722619648]"
      ]
     },
     "execution_count": 26,
     "metadata": {},
     "output_type": "execute_result"
    }
   ],
   "source": [
    "cvModel_q1.avgMetrics"
   ]
  },
  {
   "cell_type": "code",
   "execution_count": 27,
   "metadata": {},
   "outputs": [],
   "source": [
    "results = cvModel_q1.transform(validation)"
   ]
  },
  {
   "cell_type": "code",
   "execution_count": 28,
   "metadata": {},
   "outputs": [
    {
     "name": "stdout",
     "output_type": "stream",
     "text": [
      "52765\n",
      "52765\n"
     ]
    }
   ],
   "source": [
    "print(results.filter(results.label == results.prediction).count())\n",
    "print(results.count())"
   ]
  },
  {
   "cell_type": "code",
   "execution_count": 29,
   "metadata": {},
   "outputs": [
    {
     "data": {
      "text/plain": [
       "0.9998555800267177"
      ]
     },
     "execution_count": 29,
     "metadata": {},
     "output_type": "execute_result"
    }
   ],
   "source": [
    "27693/27697"
   ]
  },
  {
   "cell_type": "code",
   "execution_count": null,
   "metadata": {},
   "outputs": [],
   "source": []
  }
 ],
 "metadata": {
  "kernelspec": {
   "display_name": "Python 3.5 with Spark",
   "language": "python3",
   "name": "python3"
  },
  "language_info": {
   "codemirror_mode": {
    "name": "ipython",
    "version": 3
   },
   "file_extension": ".py",
   "mimetype": "text/x-python",
   "name": "python",
   "nbconvert_exporter": "python",
   "pygments_lexer": "ipython3",
   "version": "3.5.4"
  }
 },
 "nbformat": 4,
 "nbformat_minor": 1
}
